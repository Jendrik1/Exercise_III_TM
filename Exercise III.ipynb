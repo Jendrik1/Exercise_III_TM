{
 "cells": [
  {
   "cell_type": "markdown",
   "id": "34874017",
   "metadata": {},
   "source": [
    "### Exercise III: Statistical Analysis ###\n",
    "Perform a regression analysis to investigate the relationship between the DAX and the DOW Jones in the provided dataset. Provide a brief interpretation of the results."
   ]
  },
  {
   "cell_type": "code",
   "execution_count": null,
   "id": "c87736ec",
   "metadata": {},
   "outputs": [],
   "source": [
    "import numpy as np\n",
    "import pandas as pd\n",
    "import matplotlib as mpl\n",
    "import statsmodels\n",
    "\n",
    "df = pd.read_csv('ModifiedData.csv', sep=';')"
   ]
  },
  {
   "cell_type": "markdown",
   "id": "662f1402",
   "metadata": {},
   "source": [
    "#### Assistance provided by the LLM: ###"
   ]
  },
  {
   "cell_type": "code",
   "execution_count": null,
   "id": "8ea42242",
   "metadata": {},
   "outputs": [],
   "source": [
    "# Linear regression model\n",
    "from sklearn.linear_model import LinearRegression\n",
    "model = LinearRegression()\n",
    "model.fit(X, y)\n",
    "\n",
    "# Coefficients\n",
    "slope = model.coef_\n",
    "intercept = model.intercept_\n",
    "print(f\"Slope: {slope}, Intercept: {intercept}\")\n",
    "\n",
    "# Predictions\n",
    "y_pred = model.predict(X)\n",
    "print(y_pred)"
   ]
  },
  {
   "cell_type": "code",
   "execution_count": null,
   "id": "698a16ab",
   "metadata": {},
   "outputs": [],
   "source": [
    "# What you type in here will not be saved! Please copy your final code onto the main page\n",
    "# Your TEMPORARY solution here:"
   ]
  }
 ],
 "metadata": {
  "kernelspec": {
   "display_name": "mainenv",
   "language": "python",
   "name": "mainenv"
  },
  "language_info": {
   "codemirror_mode": {
    "name": "ipython",
    "version": 3
   },
   "file_extension": ".py",
   "mimetype": "text/x-python",
   "name": "python",
   "nbconvert_exporter": "python",
   "pygments_lexer": "ipython3",
   "version": "3.11.3"
  }
 },
 "nbformat": 4,
 "nbformat_minor": 5
}
